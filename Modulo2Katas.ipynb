{
 "cells": [
  {
   "cell_type": "markdown",
   "metadata": {},
   "source": [
    "Crear un entorno virtual\n",
    "Crea un entorno virtual mediante venv\n",
    "\n",
    "Ejecutar en su terminal: python3 -m venv env o bien python -m venv env\n",
    "\n",
    "   python3 -m venv env \n",
    "Ejecuta el comando para activar el entorno virtual: source env/bin/activate\n",
    "## -------en mi caso solo pude hacerlo funcionar ingresando a la carpeta donde esta el archivo activate-------\n",
    "\n",
    "Instalar una biblioteca\n",
    "Ahora que estás dentro de tu entorno virtual, puedes instalar una biblioteca y saber que la biblioteca solo existirá en el entorno virtual.\n",
    "\n",
    "Ejecuta el comando pip freeze para ver las bibliotecas instaladas en tu entorno:\n",
    "\n",
    "pip freeze\n",
    "No deberías obtener respuesta. A continuación, veamos cómo cambia la salida de pip freeze cuando se agrega una biblioteca (un paquete).\n",
    "\n",
    "Ejecuta el comando pip install para instalar una biblioteca:\n",
    "\n",
    "pip install python-dateutil\n",
    "Un gran mensaje de salida de texto dice que está instalando tu biblioteca, y debe terminar con la siguiente oración:\n",
    "\n",
    "Successfully installed python-dateutil-2.8.2 six-1.16.0\n",
    "Vuelve a ejecutar pip freeze para ver cómo ha cambiado tu lista de bibliotecas:\n",
    "\n",
    "pip freeze\n",
    "Ahora deberías ver la siguiente lista:\n",
    "\n",
    "python-dateutil==2.8.2\n",
    "six==1.16.0\n",
    "Desactivar un entorno virtual\n",
    "Hasta ahora, has creado un entorno virtual y le has agregado un paquete. Sin embargo, es posible que estés trabajando en varios proyectos de Python y necesites cambiar entre ellos. Para hacer eso, debes salir (desactivar) tu entorno virtual.\n",
    "\n",
    "Ejecuta el comando deactivate:\n",
    "\n",
    "![](images/imagen1Kata2.png)"
   ]
  }
 ],
 "metadata": {
  "interpreter": {
   "hash": "382911a3b25c08601c92d532ecf77b76535fbec3aff100266cbea416b7e83b72"
  },
  "kernelspec": {
   "display_name": "Python 3.10.1 64-bit",
   "language": "python",
   "name": "python3"
  },
  "language_info": {
   "name": "python",
   "version": "3.10.1"
  },
  "orig_nbformat": 4
 },
 "nbformat": 4,
 "nbformat_minor": 2
}
